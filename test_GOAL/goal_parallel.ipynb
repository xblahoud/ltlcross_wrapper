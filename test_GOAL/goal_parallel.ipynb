{
 "cells": [
  {
   "cell_type": "code",
   "execution_count": 1,
   "metadata": {},
   "outputs": [],
   "source": [
    "import ltlcross_wrapper\n",
    "\n",
    "tmp_name = \"$LCW_TMP.in\"\n",
    "tmp_out = \"$LCW_TMP.out\"\n",
    "\n",
    "goal_bin = \"$LCW_GOAL_BIN\"\n",
    "\n",
    "tgba = \"ltl2tgba %f | \"\n",
    "sba  = \"ltl2tgba %f | autfilt -B | \"\n",
    "\n",
    "save_to_file = f\"cat > {tmp_name}\"\n",
    "\n",
    "autfilt_no  = f\" && cat {tmp_out} > %O\"\n",
    "autfilt_yes = f\" && autfilt --small --tgba {tmp_out} > %O\"\n",
    "cleanup = f\" && rm {tmp_name} {tmp_out}\"\n",
    "\n",
    "def goal_cmd(algo, options=\"\"):\n",
    "    return f\"{goal_bin} batch '$temp = complement -m {algo} {options} `echo {tmp_name}`; save -c HOAF $temp `echo {tmp_out}`;'\"\n",
    "\n",
    "def goal_pipeline(algo, options=\"\"):\n",
    "    return f\"{sba} {save_to_file} && {goal_cmd(algo, options)}\"\n",
    "\n",
    "fribourg = goal_pipeline(\"fribourg\")\n",
    "piterman = goal_pipeline(\"piterman\")\n",
    "\n",
    "simpl = \" | autfilt --small --tgba \"\n",
    "\n",
    "tools = {\n",
    "    \"fribourg.yes\"    : fribourg + autfilt_yes + cleanup,\n",
    "    \"piterman.yes\"    : piterman + autfilt_yes + cleanup,\n",
    "    \"ltl2tgba\" : \"ltlfilt --negate -f %f | ltl2tgba > %O\",\n",
    "}"
   ]
  },
  {
   "cell_type": "code",
   "execution_count": 4,
   "metadata": {},
   "outputs": [],
   "source": [
    "m = ltlcross_wrapper.GoalModulizer(goal_root=\"GOAL-20200506\", tools=tools, formula_file=\"literature_nd.ltl\", name=\"test.goal\", chunk_size=1)"
   ]
  },
  {
   "cell_type": "code",
   "execution_count": 5,
   "metadata": {},
   "outputs": [],
   "source": [
    "m.run()"
   ]
  },
  {
   "cell_type": "raw",
   "metadata": {},
   "source": [
    "m.recompute()"
   ]
  },
  {
   "cell_type": "code",
   "execution_count": 11,
   "metadata": {},
   "outputs": [
    {
     "data": {
      "text/html": [
       "<div>\n",
       "<style scoped>\n",
       "    .dataframe tbody tr th:only-of-type {\n",
       "        vertical-align: middle;\n",
       "    }\n",
       "\n",
       "    .dataframe tbody tr th {\n",
       "        vertical-align: top;\n",
       "    }\n",
       "\n",
       "    .dataframe thead th {\n",
       "        text-align: right;\n",
       "    }\n",
       "</style>\n",
       "<table border=\"1\" class=\"dataframe\">\n",
       "  <thead>\n",
       "    <tr style=\"text-align: right;\">\n",
       "      <th></th>\n",
       "      <th>timeout</th>\n",
       "      <th>parse error</th>\n",
       "      <th>incorrect</th>\n",
       "      <th>crash</th>\n",
       "      <th>no output</th>\n",
       "    </tr>\n",
       "  </thead>\n",
       "  <tbody>\n",
       "    <tr>\n",
       "      <td>fribourg.yes</td>\n",
       "      <td>1</td>\n",
       "      <td>0</td>\n",
       "      <td>0</td>\n",
       "      <td>0</td>\n",
       "      <td>0</td>\n",
       "    </tr>\n",
       "    <tr>\n",
       "      <td>piterman.yes</td>\n",
       "      <td>1</td>\n",
       "      <td>0</td>\n",
       "      <td>0</td>\n",
       "      <td>0</td>\n",
       "      <td>0</td>\n",
       "    </tr>\n",
       "  </tbody>\n",
       "</table>\n",
       "</div>"
      ],
      "text/plain": [
       "              timeout  parse error  incorrect  crash  no output\n",
       "fribourg.yes        1            0          0      0          0\n",
       "piterman.yes        1            0          0      0          0"
      ]
     },
     "execution_count": 11,
     "metadata": {},
     "output_type": "execute_result"
    }
   ],
   "source": [
    "a = ltlcross_wrapper.ResAnalyzer(\"test.goal.csv\")\n",
    "a.get_error_counts()"
   ]
  },
  {
   "cell_type": "code",
   "execution_count": null,
   "metadata": {},
   "outputs": [],
   "source": []
  }
 ],
 "metadata": {
  "kernelspec": {
   "display_name": "Python 3",
   "language": "python",
   "name": "python3"
  },
  "language_info": {
   "codemirror_mode": {
    "name": "ipython",
    "version": 3
   },
   "file_extension": ".py",
   "mimetype": "text/x-python",
   "name": "python",
   "nbconvert_exporter": "python",
   "pygments_lexer": "ipython3",
   "version": "3.7.5"
  }
 },
 "nbformat": 4,
 "nbformat_minor": 4
}
