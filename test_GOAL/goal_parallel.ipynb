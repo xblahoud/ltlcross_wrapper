{
 "cells": [
  {
   "cell_type": "code",
   "execution_count": 1,
   "metadata": {},
   "outputs": [],
   "source": [
    "import ltlcross_wrapper\n",
    "\n",
    "tmp_name = \"$LCW_TMP.in\"\n",
    "tmp_out = \"$LCW_TMP.out\"\n",
    "\n",
    "goal_bin = \"$LCW_GOAL_BIN\"\n",
    "\n",
    "tgba = \"ltl2tgba %f | \"\n",
    "sba  = \"ltl2tgba %f | autfilt -B | \"\n",
    "\n",
    "save_to_file = f\"cat > {tmp_name}\"\n",
    "\n",
    "autfilt_no  = f\" && cat {tmp_out} > %O\"\n",
    "autfilt_yes = f\" && autfilt --small --tgba {tmp_out} > %O\"\n",
    "cleanup = f\" && rm {tmp_name} {tmp_out}\"\n",
    "\n",
    "def goal_cmd(algo, options=\"\"):\n",
    "    return f\"{goal_bin} batch '$temp = complement -m {algo} {options} `echo {tmp_name}`; save -c HOAF $temp `echo {tmp_out}`;'\"\n",
    "\n",
    "def goal_pipeline(algo, options=\"\"):\n",
    "    return f\"{sba} {save_to_file} && {goal_cmd(algo, options)}\"\n",
    "\n",
    "fribourg = goal_pipeline(\"fribourg\")\n",
    "piterman = goal_pipeline(\"piterman\")\n",
    "\n",
    "simpl = \" | autfilt --small --tgba \"\n",
    "\n",
    "tools = {\n",
    "    \"fribourg.yes\"    : fribourg + autfilt_yes + cleanup,\n",
    "    \"piterman.yes\"    : piterman + autfilt_yes + cleanup,\n",
    "    \"ltl2tgba\" : \"ltlfilt --negate -f %f | ltl2tgba > %O\",\n",
    "}"
   ]
  },
  {
   "cell_type": "code",
   "execution_count": 2,
   "metadata": {},
   "outputs": [],
   "source": [
    "m = ltlcross_wrapper.GoalModulizer(goal_root=\"GOAL-20200504\", tools=tools, formula_file=\"literature_nd.ltl\", name=\"test.goal\", chunk_size=1)"
   ]
  },
  {
   "cell_type": "code",
   "execution_count": null,
   "metadata": {},
   "outputs": [],
   "source": [
    "m.run()"
   ]
  },
  {
   "cell_type": "code",
   "execution_count": null,
   "metadata": {},
   "outputs": [],
   "source": [
    "m.recompute()"
   ]
  }
 ],
 "metadata": {
  "kernelspec": {
   "display_name": "Python 3",
   "language": "python",
   "name": "python3"
  },
  "language_info": {
   "codemirror_mode": {
    "name": "ipython",
    "version": 3
   },
   "file_extension": ".py",
   "mimetype": "text/x-python",
   "name": "python",
   "nbconvert_exporter": "python",
   "pygments_lexer": "ipython3",
   "version": "3.7.5"
  }
 },
 "nbformat": 4,
 "nbformat_minor": 4
}
